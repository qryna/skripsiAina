{
 "cells": [
  {
   "attachments": {},
   "cell_type": "markdown",
   "metadata": {},
   "source": [
    "## Import Library\n",
    "Pada tahap ini, import library antara lain pandas, sklearn, sastrawi dan nltk"
   ]
  },
  {
   "cell_type": "code",
   "execution_count": 1,
   "metadata": {},
   "outputs": [
    {
     "name": "stderr",
     "output_type": "stream",
     "text": [
      "[nltk_data] Downloading package stopwords to\n",
      "[nltk_data]     C:\\Users\\user\\AppData\\Roaming\\nltk_data...\n",
      "[nltk_data]   Package stopwords is already up-to-date!\n",
      "[nltk_data] Downloading package punkt to\n",
      "[nltk_data]     C:\\Users\\user\\AppData\\Roaming\\nltk_data...\n",
      "[nltk_data]   Package punkt is already up-to-date!\n"
     ]
    }
   ],
   "source": [
    "import seaborn as sns\n",
    "import numpy as np\n",
    "import pandas as pd\n",
    "import matplotlib.pyplot as plt\n",
    "from sklearn.feature_extraction.text import TfidfVectorizer\n",
    "from sklearn.model_selection import train_test_split\n",
    "from sklearn.naive_bayes import MultinomialNB ; import collections\n",
    "from Sastrawi.Stemmer.StemmerFactory import StemmerFactory\n",
    "import re\n",
    "from Sastrawi.StopWordRemover.StopWordRemoverFactory import StopWordRemoverFactory\n",
    "import nltk\n",
    "nltk.download('stopwords')\n",
    "nltk.download('punkt')\n",
    "from nltk.corpus import stopwords\n",
    "from nltk.tokenize import word_tokenize\n",
    "stopword_factory = StopWordRemoverFactory()\n",
    "stopwordsSastrawi = stopword_factory.get_stop_words()\n",
    "from sklearn.metrics import classification_report\n",
    "from imblearn.over_sampling import SMOTE"
   ]
  },
  {
   "attachments": {},
   "cell_type": "markdown",
   "metadata": {},
   "source": [
    "## Tahap 1, Membaca Dataset\n",
    "Dataset berikut sudah dilakukan pelabelan secara manual menggunakan Microsoft Excel, dataset ini berisi hasil  crawling dari konten instagram dan youtube, selanjutnya kita akan menggunakan hanya kolom komentar dan klasifikasi"
   ]
  },
  {
   "cell_type": "code",
   "execution_count": 2,
   "metadata": {},
   "outputs": [
    {
     "name": "stdout",
     "output_type": "stream",
     "text": [
      "Dataset\n"
     ]
    },
    {
     "data": {
      "text/html": [
       "<div>\n",
       "<style scoped>\n",
       "    .dataframe tbody tr th:only-of-type {\n",
       "        vertical-align: middle;\n",
       "    }\n",
       "\n",
       "    .dataframe tbody tr th {\n",
       "        vertical-align: top;\n",
       "    }\n",
       "\n",
       "    .dataframe thead th {\n",
       "        text-align: right;\n",
       "    }\n",
       "</style>\n",
       "<table border=\"1\" class=\"dataframe\">\n",
       "  <thead>\n",
       "    <tr style=\"text-align: right;\">\n",
       "      <th></th>\n",
       "      <th>Komentar</th>\n",
       "      <th>Klasifikasi</th>\n",
       "    </tr>\n",
       "  </thead>\n",
       "  <tbody>\n",
       "    <tr>\n",
       "      <th>0</th>\n",
       "      <td>Iya min cuaca lagi ga enak lagi batuk filek?</td>\n",
       "      <td>NEGATIF</td>\n",
       "    </tr>\n",
       "    <tr>\n",
       "      <th>1</th>\n",
       "      <td>Apa kabar JALAN protokol KESEHATAN?</td>\n",
       "      <td>NETRAL</td>\n",
       "    </tr>\n",
       "    <tr>\n",
       "      <th>2</th>\n",
       "      <td>Pada jahat nih orang orang cari uangnya ngga b...</td>\n",
       "      <td>NEGATIF</td>\n",
       "    </tr>\n",
       "    <tr>\n",
       "      <th>3</th>\n",
       "      <td>Lagi intens bgt nih, tiba tiba hujan bentar tr...</td>\n",
       "      <td>NEGATIF</td>\n",
       "    </tr>\n",
       "    <tr>\n",
       "      <th>4</th>\n",
       "      <td>Lampung mulai nih ,ada pesawat capung keliling...</td>\n",
       "      <td>NEGATIF</td>\n",
       "    </tr>\n",
       "  </tbody>\n",
       "</table>\n",
       "</div>"
      ],
      "text/plain": [
       "                                            Komentar Klasifikasi\n",
       "0       Iya min cuaca lagi ga enak lagi batuk filek?     NEGATIF\n",
       "1                Apa kabar JALAN protokol KESEHATAN?      NETRAL\n",
       "2  Pada jahat nih orang orang cari uangnya ngga b...     NEGATIF\n",
       "3  Lagi intens bgt nih, tiba tiba hujan bentar tr...     NEGATIF\n",
       "4  Lampung mulai nih ,ada pesawat capung keliling...     NEGATIF"
      ]
     },
     "metadata": {},
     "output_type": "display_data"
    }
   ],
   "source": [
    "# Membaca dataset\n",
    "df = pd.read_csv('DATA FIX.csv', encoding='latin-1', on_bad_lines='skip')\n",
    "print('Dataset')\n",
    "display(df.head())\n",
    "# Memisahkan fitur (komentar) dan label (klasifikasi)\n",
    "X = df['Komentar']\n",
    "Y = df['Klasifikasi']"
   ]
  },
  {
   "attachments": {},
   "cell_type": "markdown",
   "metadata": {},
   "source": [
    "## Tahap 2, Preprocessing\n",
    "Preprocessing mencakup Cleansing, Case Folding, Stopwords Removal menggunakan Sastrawi, Stemming, dan Tokenizing"
   ]
  },
  {
   "attachments": {},
   "cell_type": "markdown",
   "metadata": {},
   "source": [
    "Tahap 2.1 Cleansing"
   ]
  },
  {
   "cell_type": "code",
   "execution_count": 3,
   "metadata": {},
   "outputs": [
    {
     "data": {
      "text/plain": [
       "0"
      ]
     },
     "execution_count": 3,
     "metadata": {},
     "output_type": "execute_result"
    }
   ],
   "source": [
    "def cleansing(text):\n",
    "    #hapus url\n",
    "    text = re.sub(r'http\\S+|www\\S+|https\\S+', '', str(text))\n",
    "    #hapus '@' username\n",
    "    text = re.sub('@[^\\s]+', ' ', text)\n",
    "    #hapus dobel spasi\n",
    "    text = re.sub(r'[^\\w\\s]+', '', text)\n",
    "    text = re.sub(r'\\s+', ' ', text)\n",
    "    #hapus angka\n",
    "    text = re.sub('[0-9]+', '', text)\n",
    "    #hapus special char\n",
    "    text = re.sub(r\"[.,:;+!\\-_<^/=?\\\"'\\(\\)\\d\\*]\", \" \", text)\n",
    "\n",
    "    return text\n",
    "\n",
    "df['cleansing'] = df['Komentar'].apply(lambda text: cleansing(text))\n",
    "df['cleansing'].head()\n",
    "df.dropna()\n",
    "df['cleansing']\n",
    "# df['cleansing'].to_csv('preproces.csv')"
   ]
  },
  {
   "attachments": {},
   "cell_type": "markdown",
   "metadata": {},
   "source": [
    "Tahap 2.2 Case Folding"
   ]
  },
  {
   "cell_type": "code",
   "execution_count": 4,
   "metadata": {},
   "outputs": [
    {
     "data": {
      "text/plain": [
       "0             iya min cuaca lagi ga enak lagi batuk filek\n",
       "1                      apa kabar jalan protokol kesehatan\n",
       "2       pada jahat nih orang orang cari uangnya ngga b...\n",
       "3       lagi intens bgt nih tiba tiba hujan bentar tru...\n",
       "4       lampung mulai nih ada pesawat capung keliling ...\n",
       "                              ...                        \n",
       "2081    menyadari bahwa chemtrails adalah sebuah hoax ...\n",
       "2082    secara ilmiah chemtrails sebenarnya adalah con...\n",
       "2083    contrails yang terlihat di langit adalah bukti...\n",
       "2084    chemtrails itu bukan virus yg sengaja disebar ...\n",
       "2085    chemtrail tidak berhubungan dengan penyebaran ...\n",
       "Name: casefolding, Length: 2086, dtype: object"
      ]
     },
     "execution_count": 4,
     "metadata": {},
     "output_type": "execute_result"
    }
   ],
   "source": [
    "df['casefolding'] = df['cleansing'].str.lower()\n",
    "df['casefolding']"
   ]
  },
  {
   "attachments": {},
   "cell_type": "markdown",
   "metadata": {},
   "source": [
    "Tahap 2.3 Stopwords Removal"
   ]
  },
  {
   "cell_type": "code",
   "execution_count": 5,
   "metadata": {},
   "outputs": [
    {
     "data": {
      "text/plain": [
       "0                       iya min cuaca ga enak batuk filek\n",
       "1                          kabar jalan protokol kesehatan\n",
       "2                 jahat nih orang orang cari uangnya ngga\n",
       "3       intens bgt nih hujan bentar trus panas racun s...\n",
       "4       lampung nih pesawat capung keliling gak perkeb...\n",
       "                              ...                        \n",
       "2081    menyadari chemtrails hoax membantu membedakan ...\n",
       "2082    ilmiah chemtrails contrail kontrail terbentuk ...\n",
       "2083    contrails langit bukti keberadaan pesawat jeja...\n",
       "2084    chemtrails virus yg sengaja disebar contrail j...\n",
       "2085    chemtrail berhubungan penyebaran virus klaim m...\n",
       "Name: stopwords, Length: 2086, dtype: object"
      ]
     },
     "execution_count": 5,
     "metadata": {},
     "output_type": "execute_result"
    }
   ],
   "source": [
    "stopwordsFromNltk = set(stopwords.words('indonesian'))\n",
    "stopwordsList = stopwordsFromNltk.union(stopwordsSastrawi)\n",
    "stopwordsFix = set(stopwordsList)\n",
    "\n",
    "df['stopwords'] = df['casefolding'].apply(lambda x: ' '.join([word for word in x.split() if word not in (stopwordsFix)]))\n",
    "df['stopwords']"
   ]
  },
  {
   "attachments": {},
   "cell_type": "markdown",
   "metadata": {},
   "source": [
    "Tahap 2.4 Stemming"
   ]
  },
  {
   "cell_type": "code",
   "execution_count": 6,
   "metadata": {},
   "outputs": [
    {
     "data": {
      "text/plain": [
       "0                       iya min cuaca ga enak batuk filek\n",
       "1                              kabar jalan protokol sehat\n",
       "2                    jahat nih orang orang cari uang ngga\n",
       "3       intens bgt nih hujan bentar trus panas racun s...\n",
       "4       lampung nih pesawat capung keliling gak kebun ...\n",
       "                              ...                        \n",
       "2081    sadar chemtrails hoax bantu beda ilmu tahu val...\n",
       "2082    ilmiah chemtrails contrail kontrail bentuk uap...\n",
       "2083    contrails langit bukti ada pesawat jejak aktiv...\n",
       "2084    chemtrails virus yg sengaja sebar contrail jej...\n",
       "2085    chemtrail hubung sebar virus klaim milik dasar...\n",
       "Name: stemming, Length: 2086, dtype: object"
      ]
     },
     "execution_count": 6,
     "metadata": {},
     "output_type": "execute_result"
    }
   ],
   "source": [
    "def stemming(text):\n",
    "    stemmer = StemmerFactory().create_stemmer()\n",
    "    text = stemmer.stem(text)\n",
    "\n",
    "    return text\n",
    "\n",
    "df['stemming'] = df['stopwords'].apply(stemming)\n",
    "df['stemming']"
   ]
  },
  {
   "attachments": {},
   "cell_type": "markdown",
   "metadata": {},
   "source": [
    "Tahap 2.5 Tokenizing"
   ]
  },
  {
   "cell_type": "code",
   "execution_count": 7,
   "metadata": {},
   "outputs": [
    {
     "data": {
      "text/plain": [
       "0               [iya, min, cuaca, ga, enak, batuk, filek]\n",
       "1                         [kabar, jalan, protokol, sehat]\n",
       "2            [jahat, nih, orang, orang, cari, uang, ngga]\n",
       "3       [intens, bgt, nih, hujan, bentar, trus, panas,...\n",
       "4       [lampung, nih, pesawat, capung, keliling, gak,...\n",
       "                              ...                        \n",
       "2081    [sadar, chemtrails, hoax, bantu, beda, ilmu, t...\n",
       "2082    [ilmiah, chemtrails, contrail, kontrail, bentu...\n",
       "2083    [contrails, langit, bukti, ada, pesawat, jejak...\n",
       "2084    [chemtrails, virus, yg, sengaja, sebar, contra...\n",
       "2085    [chemtrail, hubung, sebar, virus, klaim, milik...\n",
       "Name: tokenizing, Length: 2086, dtype: object"
      ]
     },
     "execution_count": 7,
     "metadata": {},
     "output_type": "execute_result"
    }
   ],
   "source": [
    "def tokenize(token):\n",
    "    tokenizer = word_tokenize(token)\n",
    "    token = tokenizer\n",
    "    return token\n",
    "\n",
    "df['tokenizing'] = df['stemming'].apply(lambda token: tokenize(token))\n",
    "df['tokenizing'] "
   ]
  },
  {
   "attachments": {},
   "cell_type": "markdown",
   "metadata": {},
   "source": [
    "Tahap 2.6 Normalization"
   ]
  },
  {
   "cell_type": "code",
   "execution_count": 8,
   "metadata": {},
   "outputs": [
    {
     "data": {
      "text/plain": [
       "0                   iya min cuaca enggak enak batuk filek\n",
       "1                              kabar jalan protokol sehat\n",
       "2                  jahat nih orang orang cari uang enggak\n",
       "3       intens banget nih hujan bentar terus panas rac...\n",
       "4       lampung nih pesawat capung keliling enggak keb...\n",
       "                              ...                        \n",
       "2081    sadar chemtrails hoax bantu beda ilmu tahu val...\n",
       "2082    ilmiah chemtrails contrail kontrail bentuk uap...\n",
       "2083    contrails langit bukti ada pesawat jejak aktiv...\n",
       "2084    chemtrails virus yang sengaja sebar contrail j...\n",
       "2085    chemtrail hubung sebar virus klaim milik dasar...\n",
       "Name: normalize, Length: 2086, dtype: object"
      ]
     },
     "execution_count": 8,
     "metadata": {},
     "output_type": "execute_result"
    }
   ],
   "source": [
    "normalizedWordList = pd.read_csv('colloquial-indonesian-lexicon.csv')\n",
    "normalizedWordDict = {}\n",
    "\n",
    "for index, row in normalizedWordList.iterrows():\n",
    "    if row[0] not in normalizedWordList:\n",
    "        normalizedWordDict[row[0]] = row[1]\n",
    "def normalized_term(document):\n",
    " return [normalizedWordDict[term] if term in normalizedWordDict\n",
    "else\n",
    "term for term in document]\n",
    "\n",
    "df['normalize'] = df['tokenizing'].apply(normalized_term)\n",
    "df['normalize'] = [' '.join(text_list) for text_list in df['normalize']]\n",
    "df['normalize']\n"
   ]
  },
  {
   "attachments": {},
   "cell_type": "markdown",
   "metadata": {},
   "source": [
    "Visualisasi"
   ]
  },
  {
   "cell_type": "code",
   "execution_count": 9,
   "metadata": {},
   "outputs": [
    {
     "data": {
      "text/plain": [
       "<Axes: xlabel='Klasifikasi', ylabel='Count'>"
      ]
     },
     "execution_count": 9,
     "metadata": {},
     "output_type": "execute_result"
    },
    {
     "data": {
      "image/png": "[encoded data removed]",
      "text/plain": [
       "<Figure size 800x600 with 1 Axes>"
      ]
     },
     "metadata": {},
     "output_type": "display_data"
    }
   ],
   "source": [
    "fig = plt.figure(figsize=(8,6))\n",
    "\n",
    "sns.histplot(data=df, x='Klasifikasi')"
   ]
  },
  {
   "attachments": {},
   "cell_type": "markdown",
   "metadata": {},
   "source": [
    "## Tahap 3, Pembobotan TF-IDF\n",
    "Pada tahap ini menggunakan fungsi tfidfvectorizer dari library sklearn, tentu sebelum itu dilakukan perlu melakukan split data dengan pembagian 80% data training dan 20% data testing"
   ]
  },
  {
   "cell_type": "code",
   "execution_count": 10,
   "metadata": {},
   "outputs": [
    {
     "data": {
      "text/plain": [
       "array([[0., 0., 0., ..., 0., 0., 0.],\n",
       "       [0., 0., 0., ..., 0., 0., 0.],\n",
       "       [0., 0., 0., ..., 0., 0., 0.],\n",
       "       ...,\n",
       "       [0., 0., 0., ..., 0., 0., 0.],\n",
       "       [0., 0., 0., ..., 0., 0., 0.],\n",
       "       [0., 0., 0., ..., 0., 0., 0.]])"
      ]
     },
     "execution_count": 10,
     "metadata": {},
     "output_type": "execute_result"
    }
   ],
   "source": [
    "# Membagi dataset menjadi data latih dan data uji\n",
    "X_train, X_test, Y_train, Y_test = train_test_split(X, Y, test_size=0.2)\n",
    "\n",
    "# Membuat representasi vektor dari fitur menggunakan TfidfVectorizer\n",
    "\n",
    "vectorizer = TfidfVectorizer()\n",
    "X_train = vectorizer.fit_transform(X_train).toarray()\n",
    "# Y_train = vectorizer.fit_transform(Y_train).toarray()\n",
    "np.shape(Y_train)\n",
    "X_train\n",
    "# vectorizer.fit(X_train.values.ravel())\n",
    "# X_train=vectorizer.fit_transform(X_train.values.ravel())\n",
    "# X_test=vectorizer.fit_transform(X_test.values.ravel())\n",
    "# X_train=X_train.toarray()\n",
    "# X_test=X_test.toarray()\n",
    "# print(\"\\nRepresentasi vektor fitur:\")\n",
    "# print(X_train)"
   ]
  },
  {
   "cell_type": "code",
   "execution_count": 11,
   "metadata": {},
   "outputs": [
    {
     "ename": "TypeError",
     "evalue": "'<' not supported between instances of 'float' and 'str'",
     "output_type": "error",
     "traceback": [
      "\u001b[1;31m---------------------------------------------------------------------------\u001b[0m",
      "\u001b[1;31mTypeError\u001b[0m                                 Traceback (most recent call last)",
      "Cell \u001b[1;32mIn[11], line 1\u001b[0m\n\u001b[1;32m----> 1\u001b[0m X_smote, Y_smote \u001b[39m=\u001b[39m SMOTE()\u001b[39m.\u001b[39;49mfit_resample(X_train, Y_train)\n\u001b[0;32m      2\u001b[0m np\u001b[39m.\u001b[39mshape(Y_smote)\n",
      "File \u001b[1;32m~\\AppData\\Local\\Programs\\Python\\Python311\\Lib\\site-packages\\imblearn\\base.py:208\u001b[0m, in \u001b[0;36mBaseSampler.fit_resample\u001b[1;34m(self, X, y)\u001b[0m\n\u001b[0;32m    187\u001b[0m \u001b[39m\u001b[39m\u001b[39m\"\"\"Resample the dataset.\u001b[39;00m\n\u001b[0;32m    188\u001b[0m \n\u001b[0;32m    189\u001b[0m \u001b[39mParameters\u001b[39;00m\n\u001b[1;32m   (...)\u001b[0m\n\u001b[0;32m    205\u001b[0m \u001b[39m    The corresponding label of `X_resampled`.\u001b[39;00m\n\u001b[0;32m    206\u001b[0m \u001b[39m\"\"\"\u001b[39;00m\n\u001b[0;32m    207\u001b[0m \u001b[39mself\u001b[39m\u001b[39m.\u001b[39m_validate_params()\n\u001b[1;32m--> 208\u001b[0m \u001b[39mreturn\u001b[39;00m \u001b[39msuper\u001b[39;49m()\u001b[39m.\u001b[39;49mfit_resample(X, y)\n",
      "File \u001b[1;32m~\\AppData\\Local\\Programs\\Python\\Python311\\Lib\\site-packages\\imblearn\\base.py:104\u001b[0m, in \u001b[0;36mSamplerMixin.fit_resample\u001b[1;34m(self, X, y)\u001b[0m\n\u001b[0;32m     83\u001b[0m \u001b[39mdef\u001b[39;00m \u001b[39mfit_resample\u001b[39m(\u001b[39mself\u001b[39m, X, y):\n\u001b[0;32m     84\u001b[0m \u001b[39m    \u001b[39m\u001b[39m\"\"\"Resample the dataset.\u001b[39;00m\n\u001b[0;32m     85\u001b[0m \n\u001b[0;32m     86\u001b[0m \u001b[39m    Parameters\u001b[39;00m\n\u001b[1;32m   (...)\u001b[0m\n\u001b[0;32m    102\u001b[0m \u001b[39m        The corresponding label of `X_resampled`.\u001b[39;00m\n\u001b[0;32m    103\u001b[0m \u001b[39m    \"\"\"\u001b[39;00m\n\u001b[1;32m--> 104\u001b[0m     check_classification_targets(y)\n\u001b[0;32m    105\u001b[0m     arrays_transformer \u001b[39m=\u001b[39m ArraysTransformer(X, y)\n\u001b[0;32m    106\u001b[0m     X, y, binarize_y \u001b[39m=\u001b[39m \u001b[39mself\u001b[39m\u001b[39m.\u001b[39m_check_X_y(X, y)\n",
      "File \u001b[1;32m~\\AppData\\Local\\Programs\\Python\\Python311\\Lib\\site-packages\\sklearn\\utils\\multiclass.py:207\u001b[0m, in \u001b[0;36mcheck_classification_targets\u001b[1;34m(y)\u001b[0m\n\u001b[0;32m    195\u001b[0m \u001b[39mdef\u001b[39;00m \u001b[39mcheck_classification_targets\u001b[39m(y):\n\u001b[0;32m    196\u001b[0m \u001b[39m    \u001b[39m\u001b[39m\"\"\"Ensure that target y is of a non-regression type.\u001b[39;00m\n\u001b[0;32m    197\u001b[0m \n\u001b[0;32m    198\u001b[0m \u001b[39m    Only the following target types (as defined in type_of_target) are allowed:\u001b[39;00m\n\u001b[1;32m   (...)\u001b[0m\n\u001b[0;32m    205\u001b[0m \u001b[39m        Target values.\u001b[39;00m\n\u001b[0;32m    206\u001b[0m \u001b[39m    \"\"\"\u001b[39;00m\n\u001b[1;32m--> 207\u001b[0m     y_type \u001b[39m=\u001b[39m type_of_target(y, input_name\u001b[39m=\u001b[39;49m\u001b[39m\"\u001b[39;49m\u001b[39my\u001b[39;49m\u001b[39m\"\u001b[39;49m)\n\u001b[0;32m    208\u001b[0m     \u001b[39mif\u001b[39;00m y_type \u001b[39mnot\u001b[39;00m \u001b[39min\u001b[39;00m [\n\u001b[0;32m    209\u001b[0m         \u001b[39m\"\u001b[39m\u001b[39mbinary\u001b[39m\u001b[39m\"\u001b[39m,\n\u001b[0;32m    210\u001b[0m         \u001b[39m\"\u001b[39m\u001b[39mmulticlass\u001b[39m\u001b[39m\"\u001b[39m,\n\u001b[1;32m   (...)\u001b[0m\n\u001b[0;32m    213\u001b[0m         \u001b[39m\"\u001b[39m\u001b[39mmultilabel-sequences\u001b[39m\u001b[39m\"\u001b[39m,\n\u001b[0;32m    214\u001b[0m     ]:\n\u001b[0;32m    215\u001b[0m         \u001b[39mraise\u001b[39;00m \u001b[39mValueError\u001b[39;00m(\n\u001b[0;32m    216\u001b[0m             \u001b[39mf\u001b[39m\u001b[39m\"\u001b[39m\u001b[39mUnknown label type: \u001b[39m\u001b[39m{\u001b[39;00my_type\u001b[39m}\u001b[39;00m\u001b[39m. Maybe you are trying to fit a \u001b[39m\u001b[39m\"\u001b[39m\n\u001b[0;32m    217\u001b[0m             \u001b[39m\"\u001b[39m\u001b[39mclassifier, which expects discrete classes on a \u001b[39m\u001b[39m\"\u001b[39m\n\u001b[0;32m    218\u001b[0m             \u001b[39m\"\u001b[39m\u001b[39mregression target with continuous values.\u001b[39m\u001b[39m\"\u001b[39m\n\u001b[0;32m    219\u001b[0m         )\n",
      "File \u001b[1;32m~\\AppData\\Local\\Programs\\Python\\Python311\\Lib\\site-packages\\sklearn\\utils\\multiclass.py:387\u001b[0m, in \u001b[0;36mtype_of_target\u001b[1;34m(y, input_name)\u001b[0m\n\u001b[0;32m    385\u001b[0m \u001b[39m# Check multiclass\u001b[39;00m\n\u001b[0;32m    386\u001b[0m first_row \u001b[39m=\u001b[39m y[\u001b[39m0\u001b[39m] \u001b[39mif\u001b[39;00m \u001b[39mnot\u001b[39;00m issparse(y) \u001b[39melse\u001b[39;00m y\u001b[39m.\u001b[39mgetrow(\u001b[39m0\u001b[39m)\u001b[39m.\u001b[39mdata\n\u001b[1;32m--> 387\u001b[0m \u001b[39mif\u001b[39;00m xp\u001b[39m.\u001b[39;49munique_values(y)\u001b[39m.\u001b[39mshape[\u001b[39m0\u001b[39m] \u001b[39m>\u001b[39m \u001b[39m2\u001b[39m \u001b[39mor\u001b[39;00m (y\u001b[39m.\u001b[39mndim \u001b[39m==\u001b[39m \u001b[39m2\u001b[39m \u001b[39mand\u001b[39;00m \u001b[39mlen\u001b[39m(first_row) \u001b[39m>\u001b[39m \u001b[39m1\u001b[39m):\n\u001b[0;32m    388\u001b[0m     \u001b[39m# [1, 2, 3] or [[1., 2., 3]] or [[1, 2]]\u001b[39;00m\n\u001b[0;32m    389\u001b[0m     \u001b[39mreturn\u001b[39;00m \u001b[39m\"\u001b[39m\u001b[39mmulticlass\u001b[39m\u001b[39m\"\u001b[39m \u001b[39m+\u001b[39m suffix\n\u001b[0;32m    390\u001b[0m \u001b[39melse\u001b[39;00m:\n",
      "File \u001b[1;32m~\\AppData\\Local\\Programs\\Python\\Python311\\Lib\\site-packages\\sklearn\\utils\\_array_api.py:262\u001b[0m, in \u001b[0;36m_NumPyAPIWrapper.unique_values\u001b[1;34m(self, x)\u001b[0m\n\u001b[0;32m    261\u001b[0m \u001b[39mdef\u001b[39;00m \u001b[39munique_values\u001b[39m(\u001b[39mself\u001b[39m, x):\n\u001b[1;32m--> 262\u001b[0m     \u001b[39mreturn\u001b[39;00m numpy\u001b[39m.\u001b[39;49munique(x)\n",
      "File \u001b[1;32m<__array_function__ internals>:200\u001b[0m, in \u001b[0;36munique\u001b[1;34m(*args, **kwargs)\u001b[0m\n",
      "File \u001b[1;32m~\\AppData\\Local\\Programs\\Python\\Python311\\Lib\\site-packages\\numpy\\lib\\arraysetops.py:274\u001b[0m, in \u001b[0;36munique\u001b[1;34m(ar, return_index, return_inverse, return_counts, axis, equal_nan)\u001b[0m\n\u001b[0;32m    272\u001b[0m ar \u001b[39m=\u001b[39m np\u001b[39m.\u001b[39masanyarray(ar)\n\u001b[0;32m    273\u001b[0m \u001b[39mif\u001b[39;00m axis \u001b[39mis\u001b[39;00m \u001b[39mNone\u001b[39;00m:\n\u001b[1;32m--> 274\u001b[0m     ret \u001b[39m=\u001b[39m _unique1d(ar, return_index, return_inverse, return_counts, \n\u001b[0;32m    275\u001b[0m                     equal_nan\u001b[39m=\u001b[39;49mequal_nan)\n\u001b[0;32m    276\u001b[0m     \u001b[39mreturn\u001b[39;00m _unpack_tuple(ret)\n\u001b[0;32m    278\u001b[0m \u001b[39m# axis was specified and not None\u001b[39;00m\n",
      "File \u001b[1;32m~\\AppData\\Local\\Programs\\Python\\Python311\\Lib\\site-packages\\numpy\\lib\\arraysetops.py:336\u001b[0m, in \u001b[0;36m_unique1d\u001b[1;34m(ar, return_index, return_inverse, return_counts, equal_nan)\u001b[0m\n\u001b[0;32m    334\u001b[0m     aux \u001b[39m=\u001b[39m ar[perm]\n\u001b[0;32m    335\u001b[0m \u001b[39melse\u001b[39;00m:\n\u001b[1;32m--> 336\u001b[0m     ar\u001b[39m.\u001b[39msort()\n\u001b[0;32m    337\u001b[0m     aux \u001b[39m=\u001b[39m ar\n\u001b[0;32m    338\u001b[0m mask \u001b[39m=\u001b[39m np\u001b[39m.\u001b[39mempty(aux\u001b[39m.\u001b[39mshape, dtype\u001b[39m=\u001b[39mnp\u001b[39m.\u001b[39mbool_)\n",
      "\u001b[1;31mTypeError\u001b[0m: '<' not supported between instances of 'float' and 'str'"
     ]
    }
   ],
   "source": [
    "X_smote, Y_smote = SMOTE().fit_resample(X_train, Y_train)\n",
    "np.shape(Y_smote)"
   ]
  },
  {
   "cell_type": "code",
   "execution_count": null,
   "metadata": {},
   "outputs": [],
   "source": [
    "fig = plt.figure(figsize=(8,6))\n",
    "\n",
    "sns.histplot(data=Y_smote)"
   ]
  },
  {
   "cell_type": "code",
   "execution_count": null,
   "metadata": {},
   "outputs": [],
   "source": [
    "model = MultinomialNB()\n",
    "model.fit(X_smote, Y_smote)"
   ]
  },
  {
   "cell_type": "code",
   "execution_count": null,
   "metadata": {},
   "outputs": [],
   "source": [
    "# Melakukan transformasi pada data uji\n",
    "X_test_vect = vectorizer.transform(df['normalize'])\n",
    "\n",
    "# Melakukan prediksi pada data uji\n",
    "y_pred = model.predict(X_test_vect)"
   ]
  },
  {
   "cell_type": "code",
   "execution_count": null,
   "metadata": {},
   "outputs": [],
   "source": [
    "datatest = ['racun terus', 'Kalo berbusa kenapa min ? Keanehan kah ?', 'pemerintah lagi berusaha']\n",
    "datatestVectorized = vectorizer.transform(datatest)\n",
    "\n",
    "model.predict(datatestVectorized)"
   ]
  },
  {
   "cell_type": "code",
   "execution_count": null,
   "metadata": {},
   "outputs": [],
   "source": [
    "report = classification_report(Y_test, y_pred, zero_division=0)\n",
    "# accuracy = (y_pred == y_test).mean()\n",
    "# accuracy_df = pd.DataFrame([accuracy], columns=[\"Akurasi\"])\n",
    "# print(\"\\nAkurasi:\")\n",
    "print(\"Hasil Evaluasi Model:\")\n",
    "print(report)"
   ]
  },
  {
   "attachments": {},
   "cell_type": "markdown",
   "metadata": {},
   "source": [
    "## Tahap 4, SMOTE(Synthetic Minority Oversampling Technique)"
   ]
  },
  {
   "cell_type": "code",
   "execution_count": null,
   "metadata": {},
   "outputs": [],
   "source": [
    "#sm = SMOTE(random_state=30, sampling_strategy='minority')\n",
    "#X_train_array = X_train_vect.toarray()\n",
    "#Y_train_array = Y_train_vect.toarray()\n",
    "\n",
    "#x_sampling, y_sampling = sm.fit_resample(X_train_array, Y_train_array)\n",
    "\n",
    "#print(len(x_sampling))\n",
    "#print(len(y_sampling))"
   ]
  },
  {
   "cell_type": "code",
   "execution_count": null,
   "metadata": {},
   "outputs": [],
   "source": [
    "x_train = pd.DataFrame(X_train)\n",
    "X_resample, Y_resampled = SMOTE().fit_resample(X_train, Y_train)"
   ]
  },
  {
   "cell_type": "code",
   "execution_count": null,
   "metadata": {},
   "outputs": [],
   "source": [
    "fig = plt.figure(figsize=(8,6))\n",
    "\n",
    "sns.histplot(data=Y_resampled)"
   ]
  },
  {
   "attachments": {},
   "cell_type": "markdown",
   "metadata": {},
   "source": [
    "## Tahap 5, Implementasi / Pemodelan Naive Bayes\n",
    "Pada tahap ini menggunakan fungsi MultinomialNB() dari sklearn"
   ]
  },
  {
   "cell_type": "code",
   "execution_count": null,
   "metadata": {},
   "outputs": [],
   "source": [
    "# Melatih model klasifikasi Naïve Bayes\n",
    "model = MultinomialNB()\n",
    "model.fit(X_train, Y_train)"
   ]
  },
  {
   "attachments": {},
   "cell_type": "markdown",
   "metadata": {},
   "source": [
    "## Tahap 6, Melakukan Prediksi\n",
    "Pada tahap ini melakukan prediksi dengan model data latih yang sudah diproses sebelumnya"
   ]
  },
  {
   "cell_type": "code",
   "execution_count": null,
   "metadata": {},
   "outputs": [],
   "source": [
    "# Melakukan transformasi pada data uji\n",
    "X_test_vect = vectorizer.transform(df['normalize'])\n",
    "\n",
    "# Melakukan prediksi pada data uji\n",
    "y_pred = model.predict(X_test_vect)\n",
    "#y_pred.tolist().index('NETRAL')\n",
    "\n",
    "# X_test[y_pred!=y_test]\n"
   ]
  },
  {
   "attachments": {},
   "cell_type": "markdown",
   "metadata": {},
   "source": [
    "Tahap 6.1 Data Test"
   ]
  },
  {
   "cell_type": "code",
   "execution_count": null,
   "metadata": {},
   "outputs": [],
   "source": [
    "datatest = ['chemtrail mulu bahasnya', 'Kalo berbusa kenapa min ? Keanehan kah ?', 'Kualitas udara Sebab dan akibat']\n",
    "datatestVectorized = vectorizer.transform(datatest)\n",
    "\n",
    "model.predict(datatestVectorized)\n"
   ]
  },
  {
   "attachments": {},
   "cell_type": "markdown",
   "metadata": {},
   "source": [
    "## Tahap 7, Evaluasi Model\n",
    "Pada tahap ini menggunakan sklearn.matrix"
   ]
  },
  {
   "cell_type": "code",
   "execution_count": null,
   "metadata": {},
   "outputs": [],
   "source": [
    "# Evaluasi performa model\n",
    "report = classification_report(Y_test, y_pred, zero_division=0)\n",
    "# accuracy = (y_pred == y_test).mean()\n",
    "# accuracy_df = pd.DataFrame([accuracy], columns=[\"Akurasi\"])\n",
    "# print(\"\\nAkurasi:\")\n",
    "print(\"Hasil Evaluasi Model:\")\n",
    "print(report)"
   ]
  }
 ],
 "metadata": {
  "kernelspec": {
   "display_name": "Python 3 (ipykernel)",
   "language": "python",
   "name": "python3"
  },
  "language_info": {
   "codemirror_mode": {
    "name": "ipython",
    "version": 3
   },
   "file_extension": ".py",
   "mimetype": "text/x-python",
   "name": "python",
   "nbconvert_exporter": "python",
   "pygments_lexer": "ipython3",
   "version": "3.11.3"
  }
 },
 "nbformat": 4,
 "nbformat_minor": 4
}
